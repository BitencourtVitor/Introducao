{
 "cells": [
  {
   "cell_type": "markdown",
   "id": "ee3c4e4e",
   "metadata": {},
   "source": [
    "# Código usado para anonimização"
   ]
  },
  {
   "cell_type": "markdown",
   "id": "c9af40b4",
   "metadata": {},
   "source": [
    " "
   ]
  },
  {
   "cell_type": "markdown",
   "id": "1bb0903d",
   "metadata": {},
   "source": [
    " "
   ]
  },
  {
   "cell_type": "markdown",
   "id": "2d8d2bfc",
   "metadata": {},
   "source": [
    "#### Passo 1 - Importação das bibliotecas"
   ]
  },
  {
   "cell_type": "code",
   "execution_count": 1,
   "id": "7f066b33",
   "metadata": {},
   "outputs": [],
   "source": [
    "import pandas as pd\n",
    "from faker import Faker\n",
    "fake = Faker('pt_BR')"
   ]
  },
  {
   "cell_type": "markdown",
   "id": "64e481a4",
   "metadata": {},
   "source": [
    " "
   ]
  },
  {
   "cell_type": "markdown",
   "id": "311dead0",
   "metadata": {},
   "source": [
    "#### Passo 2.1 - Gerar função para novos nomes\n",
    "Se aplicará tanto aos clientes novos, quanto aos vendedores.\n",
    "\n",
    "Aqui o que quero dizer é que cada nome real gerará um nome fictício que será armazenado em um dicionário."
   ]
  },
  {
   "cell_type": "code",
   "execution_count": 5,
   "id": "6bea8ee0",
   "metadata": {},
   "outputs": [],
   "source": [
    "def gerar_nomes_ficticios(coluna):\n",
    "    nomes_ficticios = {}\n",
    "    for nome in coluna.unique():\n",
    "        if nome not in nomes_ficticios:\n",
    "            nomes_ficticios[nome] = fake.name()\n",
    "    return nomes_ficticios"
   ]
  },
  {
   "cell_type": "markdown",
   "id": "b39b06bd",
   "metadata": {},
   "source": [
    " "
   ]
  },
  {
   "cell_type": "markdown",
   "id": "d5d6fa18",
   "metadata": {},
   "source": [
    "#### Passo 2.2 - Gerar função para novas cidades\n",
    "Como não tratamos de pessoas, sou obrigado a fazer uma breve alteração nesta estrutura... Porém, ambas são bem parecidas."
   ]
  },
  {
   "cell_type": "code",
   "execution_count": null,
   "id": "181c8d0d",
   "metadata": {},
   "outputs": [],
   "source": [
    "def gerar_cidades_ficticias(coluna):\n",
    "    cidades_ficticias = {}\n",
    "    for cidade in coluna.unique():\n",
    "        if cidade not in cidades_ficticias:\n",
    "            cidades_ficticias[cidade] = fake.city()\n",
    "    return cidades_ficticias"
   ]
  },
  {
   "cell_type": "markdown",
   "id": "779944d0",
   "metadata": {},
   "source": [
    " "
   ]
  },
  {
   "cell_type": "markdown",
   "id": "4dc9b672",
   "metadata": {},
   "source": [
    "#### Passo 3 - Importar o documento"
   ]
  },
  {
   "cell_type": "code",
   "execution_count": null,
   "id": "7aec2d8e",
   "metadata": {},
   "outputs": [],
   "source": [
    "df = pd.read_excel(r'C:\\Users\\Ryzen\\OneDrive\\Área de Trabalho\\database.xlsx')"
   ]
  },
  {
   "cell_type": "markdown",
   "id": "f7579192",
   "metadata": {},
   "source": [
    " "
   ]
  },
  {
   "cell_type": "markdown",
   "id": "08d2ac52",
   "metadata": {},
   "source": [
    "#### Passo 4 - Gerar dicionário fictício com base no documento importado\n",
    "São criadas três dicionários: uma para os clientes, uma para os vendedores e uma para a cidade. O critério para criação? As funções que foram criadas acima."
   ]
  },
  {
   "cell_type": "code",
   "execution_count": null,
   "id": "29275e1a",
   "metadata": {},
   "outputs": [],
   "source": [
    "nomes_ficticios = gerar_nomes_ficticios(df[\"nome_cliente\"])\n",
    "cidades_ficticias = gerar_cidades_ficticias(df[\"cidade\"])\n",
    "vendedores_ficticios = gerar_nomes_ficticios(df[\"vendedor\"])"
   ]
  },
  {
   "cell_type": "markdown",
   "id": "c29bcd91",
   "metadata": {},
   "source": [
    " "
   ]
  },
  {
   "cell_type": "markdown",
   "id": "70a4ec88",
   "metadata": {},
   "source": [
    "#### Passo 5 - Substituição dos dados antigos pelos dados fictícios\n",
    "Em outras palavras, é nessa etapa que a mágica acontece: os dados contidos nas respectivas colunas são substituídas pelos novos dados que foram geradas ao longo do código."
   ]
  },
  {
   "cell_type": "code",
   "execution_count": null,
   "id": "6d4e6ccc",
   "metadata": {},
   "outputs": [],
   "source": [
    "df[\"nome_cliente\"] = df[\"nome_cliente\"].map(nomes_ficticios)\n",
    "df[\"cidade\"] = df[\"cidade\"].map(cidades_ficticias)\n",
    "df[\"vendedor\"] = df[\"vendedor\"].map(vendedores_ficticios)"
   ]
  },
  {
   "cell_type": "markdown",
   "id": "63ad2d5b",
   "metadata": {},
   "source": [
    " "
   ]
  },
  {
   "cell_type": "markdown",
   "id": "4a8086eb",
   "metadata": {},
   "source": [
    "#### Passo 6 - Armazenamento de uma cópia do arquivo novo que foi gerado\n",
    "Importante observar que a cada vez que este código rodar, uma nova base de dados anonimizada vai ser gerada."
   ]
  },
  {
   "cell_type": "code",
   "execution_count": null,
   "id": "becd5a86",
   "metadata": {},
   "outputs": [],
   "source": [
    "df.to_excel(r'C:\\Users\\Ryzen\\OneDrive\\Área de Trabalho\\database anonimizado.xlsx', index=False)"
   ]
  }
 ],
 "metadata": {
  "kernelspec": {
   "display_name": "Python 3 (ipykernel)",
   "language": "python",
   "name": "python3"
  },
  "language_info": {
   "codemirror_mode": {
    "name": "ipython",
    "version": 3
   },
   "file_extension": ".py",
   "mimetype": "text/x-python",
   "name": "python",
   "nbconvert_exporter": "python",
   "pygments_lexer": "ipython3",
   "version": "3.9.13"
  }
 },
 "nbformat": 4,
 "nbformat_minor": 5
}
