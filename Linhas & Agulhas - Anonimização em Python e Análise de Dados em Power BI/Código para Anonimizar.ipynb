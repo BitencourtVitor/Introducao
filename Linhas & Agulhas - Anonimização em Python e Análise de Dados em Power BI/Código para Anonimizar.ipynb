{
 "cells": [
  {
   "cell_type": "code",
   "execution_count": 1,
   "id": "f58fd3d5",
   "metadata": {},
   "outputs": [],
   "source": [
    "# Importação das bibliotecas\n",
    "import pandas as pd\n",
    "from faker import Faker\n",
    "\n",
    "# Atribuição do uso da biblioteca Faker para nomes em Português\n",
    "fake = Faker('pt_BR')\n",
    "\n",
    "# Leitura do arquivo antes da anonimização\n",
    "df = pd.read_excel(r'C:\\Users\\Ryzen\\OneDrive\\Área de Trabalho\\database.xlsx')\n",
    "\n",
    "# Criação de dicionário: esse dicionário receberá os nomes fictícios\n",
    "nomes = {}\n",
    "cidades = {}\n",
    "vendedores = {}\n",
    "\n",
    "# Loop para os nomes e cidades\n",
    "for index, row in df.iterrows():    \n",
    "    # Para cada \"nome do cliente\" ou \"cidade\", será adicionado um nome fictício naqueles dicionários inicialmente vazios\n",
    "    if row[\"Nome do Cliente\"] not in nomes:\n",
    "        nomes[row[\"Nome do Cliente\"]] = fake.name()\n",
    "    if row[\"Cidade\"] not in cidades:\n",
    "        cidades[row[\"Cidade\"]] = fake.city()\n",
    "\n",
    "    # Agora, para cada item na coluna, haverá uma substituição pelo nome fictício guardado para ele no dicionário\n",
    "    df.at[index, \"Nome do Cliente\"] = nomes[row[\"Nome do Cliente\"]]\n",
    "    df.at[index, \"Cidade\"] = cidades[row[\"Cidade\"]]\n",
    "\n",
    "    \n",
    "# Aqui fiz a mesma coisa, mas agora para os vendedores    \n",
    "for _, row in df.iterrows():\n",
    "    if row[\"Vendedor\"] not in vendedores:\n",
    "        vendedores[row[\"Vendedor\"]] = fake.name()\n",
    "    \n",
    "    # Pra variar, resolvi usar df.loc invés de df.at\n",
    "    df.loc[df.index == _, \"Vendedor\"] = vendedores[row[\"Vendedor\"]]\n",
    "\n",
    "# Finalizado o trabalho, pedi que salvasse o arquivo anonimizado na Workspace    \n",
    "df.to_excel(r'C:\\Users\\Ryzen\\OneDrive\\Área de Trabalho\\database anonimizado.xlsx', index=False)"
   ]
  },
  {
   "cell_type": "code",
   "execution_count": null,
   "id": "d91adc35",
   "metadata": {},
   "outputs": [],
   "source": []
  }
 ],
 "metadata": {
  "kernelspec": {
   "display_name": "Python 3 (ipykernel)",
   "language": "python",
   "name": "python3"
  },
  "language_info": {
   "codemirror_mode": {
    "name": "ipython",
    "version": 3
   },
   "file_extension": ".py",
   "mimetype": "text/x-python",
   "name": "python",
   "nbconvert_exporter": "python",
   "pygments_lexer": "ipython3",
   "version": "3.9.13"
  }
 },
 "nbformat": 4,
 "nbformat_minor": 5
}
