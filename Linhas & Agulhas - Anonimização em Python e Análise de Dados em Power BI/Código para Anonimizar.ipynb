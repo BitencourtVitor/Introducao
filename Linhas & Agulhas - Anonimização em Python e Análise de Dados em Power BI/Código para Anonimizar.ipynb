{
 "cells": [
  {
   "cell_type": "code",
   "execution_count": null,
   "id": "d4e85af2",
   "metadata": {},
   "outputs": [],
   "source": [
    "def gerar_nomes_ficticios(coluna):\n",
    "    nomes_ficticios = []\n",
    "    for nome in coluna.unique():\n",
    "        nomes_ficticios.append(fake.name())\n",
    "    return dict(zip(coluna.unique(), nomes_ficticios))\n",
    "\n",
    "def gerar_cidades_ficticias(coluna):\n",
    "    cidades_ficticias = []\n",
    "    for cidade in coluna.unique():\n",
    "        cidades_ficticias.append(fake.city())\n",
    "    return dict(zip(coluna.unique(), cidades_ficticias))\n",
    "\n",
    "df = pd.read_excel(r'C:\\Users\\Ryzen\\OneDrive\\Área de Trabalho\\database.xlsx')\n",
    "\n",
    "nomes_ficticios = gerar_nomes_ficticios(df[\"Nome do Cliente\"])\n",
    "cidades_ficticias = gerar_cidades_ficticias(df[\"Cidade\"])\n",
    "vendedores_ficticios = gerar_nomes_ficticios(df[\"Vendedor\"])\n",
    "\n",
    "df[\"Nome do Cliente\"] = df[\"Nome do Cliente\"].map(nomes_ficticios)\n",
    "df[\"Cidade\"] = df[\"Cidade\"].map(cidades_ficticias)\n",
    "df[\"Vendedor\"] = df[\"Vendedor\"].map(vendedores_ficticios)\n",
    "\n",
    "df.to_excel(r'C:\\Users\\Ryzen\\OneDrive\\Área de Trabalho\\database anonimizado.xlsx', index=False)\n"
   ]
  },
  {
   "cell_type": "markdown",
   "id": "2d8d2bfc",
   "metadata": {},
   "source": [
    "#### Passo 1 - Importação das bibliotecas"
   ]
  },
  {
   "cell_type": "code",
   "execution_count": 1,
   "id": "7f066b33",
   "metadata": {},
   "outputs": [],
   "source": [
    "import pandas as pd\n",
    "from faker import Faker\n",
    "fake = Faker('pt_BR')"
   ]
  },
  {
   "cell_type": "markdown",
   "id": "64e481a4",
   "metadata": {},
   "source": [
    " "
   ]
  },
  {
   "cell_type": "markdown",
   "id": "311dead0",
   "metadata": {},
   "source": [
    "#### Passo 2.1 - Gerar função para novos nomes\n",
    "Se aplicará tanto aos clientes novos, quanto aos vendedores.\n",
    "\n",
    "Aqui o que quero dizer é que cada nome real gerará um nome fictício que será armazenado em uma lista."
   ]
  },
  {
   "cell_type": "code",
   "execution_count": null,
   "id": "6bea8ee0",
   "metadata": {},
   "outputs": [],
   "source": [
    "def gerar_nomes_ficticios(coluna):\n",
    "    nomes_ficticios = []\n",
    "    for nome in coluna.unique():\n",
    "        nomes_ficticios.append(fake.name())\n",
    "    return dict(zip(coluna.unique(), nomes_ficticios))"
   ]
  },
  {
   "cell_type": "markdown",
   "id": "b39b06bd",
   "metadata": {},
   "source": [
    " "
   ]
  },
  {
   "cell_type": "markdown",
   "id": "d5d6fa18",
   "metadata": {},
   "source": [
    "#### Passo 2.2 - Gerar função para novas cidades\n",
    "Como não tratamos de pessoas, sou obrigado a fazer uma breve alteração nesta estrutura... Porém, ambas são bem parecidas."
   ]
  },
  {
   "cell_type": "code",
   "execution_count": null,
   "id": "181c8d0d",
   "metadata": {},
   "outputs": [],
   "source": [
    "def gerar_cidades_ficticias(coluna):\n",
    "    cidades_ficticias = []\n",
    "    for cidade in coluna.unique():\n",
    "        cidades_ficticias.append(fake.city())\n",
    "    return dict(zip(coluna.unique(), cidades_ficticias))"
   ]
  },
  {
   "cell_type": "code",
   "execution_count": null,
   "id": "cd5ab0f9",
   "metadata": {},
   "outputs": [],
   "source": []
  },
  {
   "cell_type": "code",
   "execution_count": null,
   "id": "5dd170e8",
   "metadata": {},
   "outputs": [],
   "source": []
  },
  {
   "cell_type": "code",
   "execution_count": null,
   "id": "7aec2d8e",
   "metadata": {},
   "outputs": [],
   "source": []
  }
 ],
 "metadata": {
  "kernelspec": {
   "display_name": "Python 3 (ipykernel)",
   "language": "python",
   "name": "python3"
  },
  "language_info": {
   "codemirror_mode": {
    "name": "ipython",
    "version": 3
   },
   "file_extension": ".py",
   "mimetype": "text/x-python",
   "name": "python",
   "nbconvert_exporter": "python",
   "pygments_lexer": "ipython3",
   "version": "3.9.13"
  }
 },
 "nbformat": 4,
 "nbformat_minor": 5
}
